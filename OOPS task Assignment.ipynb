{
 "cells": [
  {
   "cell_type": "code",
   "execution_count": null,
   "id": "2be14806-492d-4903-a468-73465a4bc877",
   "metadata": {},
   "outputs": [],
   "source": [
    "Q1, Create a vehicle class with an init method having instance variables as name_of_vehicle, max_speed and average_of_vehicle.\n"
   ]
  },
  {
   "cell_type": "code",
   "execution_count": 1,
   "id": "44e427d8-8b39-4e9b-a3d7-72a61b0dfefd",
   "metadata": {},
   "outputs": [
    {
     "name": "stdout",
     "output_type": "stream",
     "text": [
      "Name: Toyota Camry, Max Speed: 200 km/h, Average: 30 km/l\n"
     ]
    }
   ],
   "source": [
    "class Vehicle:\n",
    "    def __init__(self, name_of_vehicle, max_speed, average_of_vehicle):\n",
    "        self.name_of_vehicle = name_of_vehicle\n",
    "        self.max_speed = max_speed\n",
    "        self.average_of_vehicle = average_of_vehicle\n",
    "\n",
    "# Example\n",
    "car = Vehicle(\"Toyota Camry\", 200, 30)\n",
    "print(f\"Name: {car.name_of_vehicle}, Max Speed: {car.max_speed} km/h, Average: {car.average_of_vehicle} km/l\")\n"
   ]
  },
  {
   "cell_type": "markdown",
   "id": "69ce3a81-8d70-460b-98a1-50399daad1c1",
   "metadata": {},
   "source": [
    "Q2. Create a child class car from the vehicle class created in Que 1, which will inherit the vehicle class. Create a method named seating_capacity which takes capacity as an argument and returns the name ofthe vehicle and its seating capacity."
   ]
  },
  {
   "cell_type": "code",
   "execution_count": 2,
   "id": "bd171caf-5121-43c1-897e-185ebff3c73a",
   "metadata": {},
   "outputs": [
    {
     "name": "stdout",
     "output_type": "stream",
     "text": [
      "Name: Toyota Camry, Max Speed: 200 km/h, Average: 30 km/l\n",
      "Toyota Camry has a seating capacity of 5.\n"
     ]
    }
   ],
   "source": [
    "class Vehicle:\n",
    "    def __init__(self, name_of_vehicle, max_speed, average_of_vehicle):\n",
    "        self.name_of_vehicle = name_of_vehicle\n",
    "        self.max_speed = max_speed\n",
    "        self.average_of_vehicle = average_of_vehicle\n",
    "\n",
    "class Car(Vehicle):\n",
    "    def seating_capacity(self, capacity):\n",
    "        return f\"{self.name_of_vehicle} has a seating capacity of {capacity}.\"\n",
    "\n",
    "# Example \n",
    "car_instance = Car(\"Toyota Camry\", 200, 30)\n",
    "print(f\"Name: {car_instance.name_of_vehicle}, Max Speed: {car_instance.max_speed} km/h, Average: {car_instance.average_of_vehicle} km/l\")\n",
    "print(car_instance.seating_capacity(5))\n"
   ]
  },
  {
   "cell_type": "markdown",
   "id": "8bc7fd07-1c00-4070-8300-3ba88205b632",
   "metadata": {},
   "source": [
    "Q3. What is multiple inheritance? Write a python code to demonstrate multiple inheritance.\n",
    "Ans:-- Multiple inheritance is a feature in object-oriented programming where a class can inherit attributes and methods from more than one parent class. In Python, a class can inherit from multiple classes by listing them in the parentheses after the class name."
   ]
  },
  {
   "cell_type": "code",
   "execution_count": 3,
   "id": "fef62f85-5b19-4ce6-a863-da1a08a136b2",
   "metadata": {},
   "outputs": [
    {
     "name": "stdout",
     "output_type": "stream",
     "text": [
      "Engine started.\n",
      "Wheels rolling.\n",
      "Car is driving.\n"
     ]
    }
   ],
   "source": [
    "class Engine:\n",
    "    def start(self):\n",
    "        return \"Engine started.\"\n",
    "\n",
    "class Wheels:\n",
    "    def roll(self):\n",
    "        return \"Wheels rolling.\"\n",
    "\n",
    "class Car(Engine, Wheels):\n",
    "    def drive(self):\n",
    "        return \"Car is driving.\"\n",
    "\n",
    "# Example \n",
    "my_car = Car()\n",
    "print(my_car.start())  # Output: Engine started.\n",
    "print(my_car.roll())   # Output: Wheels rolling.\n",
    "print(my_car.drive())  # Output: Car is driving.\n"
   ]
  },
  {
   "cell_type": "markdown",
   "id": "144d2904-57f0-4188-a98b-c888520a8afc",
   "metadata": {},
   "source": [
    "Q4. What are getter and setter in python? Create a class and create a getter and a setter method in this class.\n",
    "\n",
    "Ans:- In Python, getter and setter methods are used to access and modify the private attributes of a class, respectively. They provide a way to encapsulate the access and modification of attributes, allowing for better control and validation."
   ]
  },
  {
   "cell_type": "code",
   "execution_count": 4,
   "id": "9309575e-c52a-40dc-981b-344134be50b3",
   "metadata": {},
   "outputs": [
    {
     "name": "stdout",
     "output_type": "stream",
     "text": [
      "Name: Alice\n",
      "Age: 20\n",
      "Updated Name: Bob\n",
      "Updated Age: 25\n"
     ]
    }
   ],
   "source": [
    "class Student:\n",
    "    def __init__(self, name, age):\n",
    "        self._name = name  # private attribute\n",
    "        self._age = age    # private attribute\n",
    "\n",
    "    # Getter method for name\n",
    "    def get_name(self):\n",
    "        return self._name\n",
    "\n",
    "    # Setter method for name\n",
    "    def set_name(self, new_name):\n",
    "        if isinstance(new_name, str):\n",
    "            self._name = new_name\n",
    "        else:\n",
    "            print(\"Invalid input. Name must be a string.\")\n",
    "\n",
    "    # Getter method for age\n",
    "    def get_age(self):\n",
    "        return self._age\n",
    "\n",
    "    # Setter method for age\n",
    "    def set_age(self, new_age):\n",
    "        if isinstance(new_age, int) and 0 <= new_age <= 150:\n",
    "            self._age = new_age\n",
    "        else:\n",
    "            print(\"Invalid input. Age must be an integer between 0 and 150.\")\n",
    "\n",
    "# Example \n",
    "student1 = Student(\"aimu\", 20)\n",
    "\n",
    "# Using getter methods\n",
    "print(f\"Name: {student1.get_name()}\")\n",
    "print(f\"Age: {student1.get_age()}\")\n",
    "\n",
    "# Using setter methods\n",
    "student1.set_name(\"Bob\")\n",
    "student1.set_age(25)\n",
    "\n",
    "# Checking updated values using getter methods\n",
    "print(f\"Updated Name: {student1.get_name()}\")\n",
    "print(f\"Updated Age: {student1.get_age()}\")\n"
   ]
  },
  {
   "cell_type": "code",
   "execution_count": null,
   "id": "f822fc67-12c9-46cd-829f-c94355a236cb",
   "metadata": {},
   "outputs": [],
   "source": []
  }
 ],
 "metadata": {
  "kernelspec": {
   "display_name": "Python 3 (ipykernel)",
   "language": "python",
   "name": "python3"
  },
  "language_info": {
   "codemirror_mode": {
    "name": "ipython",
    "version": 3
   },
   "file_extension": ".py",
   "mimetype": "text/x-python",
   "name": "python",
   "nbconvert_exporter": "python",
   "pygments_lexer": "ipython3",
   "version": "3.10.8"
  }
 },
 "nbformat": 4,
 "nbformat_minor": 5
}
